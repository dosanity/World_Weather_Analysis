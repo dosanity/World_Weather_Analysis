{
 "cells": [
  {
   "cell_type": "code",
   "execution_count": 104,
   "id": "18cba5a0-8175-4cc3-a6f8-8e5d1ac76037",
   "metadata": {},
   "outputs": [],
   "source": [
    "# Use the citipy module to determine city based on latitude and longitude.\n",
    "from citipy import citipy\n",
    "# Import the time library and the datetime module from the datetime library \n",
    "import time\n",
    "from datetime import datetime\n",
    "# Import the requests library.\n",
    "import requests\n",
    "import json\n",
    "# Import the API key.\n",
    "from config import weather_api_key\n",
    "\n",
    "from pprint import pprint\n",
    "\n",
    "# Import the dependencies.\n",
    "import pandas as pd\n",
    "import matplotlib.pyplot as plt\n",
    "import numpy as np"
   ]
  },
  {
   "cell_type": "code",
   "execution_count": 105,
   "id": "97f1ae4f-1523-4c87-b769-ff371ea72e3f",
   "metadata": {},
   "outputs": [],
   "source": [
    "# Create a set of random latitude and longitude combinations.\n",
    "lats = np.random.uniform(low=-90.000, high=90.000, size=1500)\n",
    "lngs = np.random.uniform(low=-180.000, high=180.000, size=1500)\n",
    "lat_lngs = zip(lats, lngs)"
   ]
  },
  {
   "cell_type": "code",
   "execution_count": 87,
   "id": "6faa226a-473e-4bba-98d1-e9f50ad3320b",
   "metadata": {},
   "outputs": [],
   "source": [
    "# Add the latitudes and longitudes to a list.\n",
    "coordinates = list(lat_lngs)"
   ]
  },
  {
   "cell_type": "code",
   "execution_count": 88,
   "id": "e6895bba-e98f-4966-9ecb-00edfd3fedbb",
   "metadata": {},
   "outputs": [
    {
     "name": "stdout",
     "output_type": "stream",
     "text": [
      "http://api.openweathermap.org/data/2.5/weather?units=Imperial&APPID=f88b157cdf30e6d69fb32ee4af932a7d\n"
     ]
    }
   ],
   "source": [
    "# Starting URL for Weather Map API Call.\n",
    "url = \"http://api.openweathermap.org/data/2.5/weather?units=Imperial&APPID=\" + weather_api_key\n",
    "print(url)"
   ]
  },
  {
   "cell_type": "code",
   "execution_count": 89,
   "id": "2880e923-b67c-4461-bf3d-e3857b05744b",
   "metadata": {},
   "outputs": [
    {
     "name": "stdout",
     "output_type": "stream",
     "text": [
      "http://api.openweathermap.org/data/2.5/weather?units=Imperial&APPID=f88b157cdf30e6d69fb32ee4af932a7d&q=Boston\n"
     ]
    }
   ],
   "source": [
    "# Create an endpoint URL for a city.\n",
    "city_url = url + \"&q=\" + \"Boston\"\n",
    "print(city_url)"
   ]
  },
  {
   "cell_type": "code",
   "execution_count": 90,
   "id": "57f0873f-cbc0-4a96-b0db-628675037bf2",
   "metadata": {},
   "outputs": [
    {
     "data": {
      "text/plain": [
       "<Response [200]>"
      ]
     },
     "execution_count": 90,
     "metadata": {},
     "output_type": "execute_result"
    }
   ],
   "source": [
    "# Make a 'Get' request for the city weather.\n",
    "city_weather = requests.get(city_url)\n",
    "city_weather"
   ]
  },
  {
   "cell_type": "code",
   "execution_count": 91,
   "id": "f0991367-dcc5-43d6-8133-057e9e911018",
   "metadata": {},
   "outputs": [
    {
     "data": {
      "text/plain": [
       "<Response [404]>"
      ]
     },
     "execution_count": 91,
     "metadata": {},
     "output_type": "execute_result"
    }
   ],
   "source": [
    "# Create an endpoint URL for a city.\n",
    "city_url = url + \"&q=\" + \"Bston\"\n",
    "city_weather = requests.get(city_url)\n",
    "city_weather"
   ]
  },
  {
   "cell_type": "code",
   "execution_count": 98,
   "id": "b44abca9-98ea-428c-92a3-6dfb5fb66f19",
   "metadata": {},
   "outputs": [
    {
     "data": {
      "text/plain": [
       "<Response [200]>"
      ]
     },
     "execution_count": 98,
     "metadata": {},
     "output_type": "execute_result"
    }
   ],
   "source": [
    "# Create an endpoint URL for a city.\n",
    "city_url = url + \"&q=\" + \"Boston\"\n",
    "city_weather = requests.get(city_url)\n",
    "city_weather"
   ]
  },
  {
   "cell_type": "code",
   "execution_count": 99,
   "id": "1582e575-eb5e-4ba3-b120-fbfd4fb82782",
   "metadata": {},
   "outputs": [
    {
     "data": {
      "text/plain": [
       "'{\"coord\":{\"lon\":-71.0598,\"lat\":42.3584},\"weather\":[{\"id\":803,\"main\":\"Clouds\",\"description\":\"broken clouds\",\"icon\":\"04n\"}],\"base\":\"stations\",\"main\":{\"temp\":67.59,\"feels_like\":67.48,\"temp_min\":63.14,\"temp_max\":70.25,\"pressure\":1017,\"humidity\":73},\"visibility\":10000,\"wind\":{\"speed\":4.61,\"deg\":70},\"clouds\":{\"all\":75},\"dt\":1660616068,\"sys\":{\"type\":2,\"id\":2013408,\"country\":\"US\",\"sunrise\":1660557089,\"sunset\":1660607172},\"timezone\":-14400,\"id\":4930956,\"name\":\"Boston\",\"cod\":200}'"
      ]
     },
     "execution_count": 99,
     "metadata": {},
     "output_type": "execute_result"
    }
   ],
   "source": [
    "# Get the text of the 'Get' request.\n",
    "city_weather.text"
   ]
  },
  {
   "cell_type": "code",
   "execution_count": 106,
   "id": "788b572c-0ade-4d24-bd17-2230e6736ee5",
   "metadata": {},
   "outputs": [
    {
     "name": "stdout",
     "output_type": "stream",
     "text": [
      "{'base': 'stations',\n",
      " 'clouds': {'all': 75},\n",
      " 'cod': 200,\n",
      " 'coord': {'lat': 42.3584, 'lon': -71.0598},\n",
      " 'dt': 1660616068,\n",
      " 'id': 4930956,\n",
      " 'main': {'feels_like': 67.48,\n",
      "          'humidity': 73,\n",
      "          'pressure': 1017,\n",
      "          'temp': 67.59,\n",
      "          'temp_max': 70.25,\n",
      "          'temp_min': 63.14},\n",
      " 'name': 'Boston',\n",
      " 'sys': {'country': 'US',\n",
      "         'id': 2013408,\n",
      "         'sunrise': 1660557089,\n",
      "         'sunset': 1660607172,\n",
      "         'type': 2},\n",
      " 'timezone': -14400,\n",
      " 'visibility': 10000,\n",
      " 'weather': [{'description': 'broken clouds',\n",
      "              'icon': '04n',\n",
      "              'id': 803,\n",
      "              'main': 'Clouds'}],\n",
      " 'wind': {'deg': 70, 'speed': 4.61}}\n"
     ]
    }
   ],
   "source": [
    "# Get the JSON text of the 'Get' request.\n",
    "c = city_weather.json()\n",
    "\n",
    "pprint(c)"
   ]
  },
  {
   "cell_type": "code",
   "execution_count": 107,
   "id": "55db16cf-199d-4850-8e52-a11436ef8651",
   "metadata": {},
   "outputs": [
    {
     "name": "stdout",
     "output_type": "stream",
     "text": [
      "{\n",
      "    \"base\": \"stations\",\n",
      "    \"clouds\": {\n",
      "        \"all\": 75\n",
      "    },\n",
      "    \"cod\": 200,\n",
      "    \"coord\": {\n",
      "        \"lat\": 42.3584,\n",
      "        \"lon\": -71.0598\n",
      "    },\n",
      "    \"dt\": 1660616068,\n",
      "    \"id\": 4930956,\n",
      "    \"main\": {\n",
      "        \"feels_like\": 67.48,\n",
      "        \"humidity\": 73,\n",
      "        \"pressure\": 1017,\n",
      "        \"temp\": 67.59,\n",
      "        \"temp_max\": 70.25,\n",
      "        \"temp_min\": 63.14\n",
      "    },\n",
      "    \"name\": \"Boston\",\n",
      "    \"sys\": {\n",
      "        \"country\": \"US\",\n",
      "        \"id\": 2013408,\n",
      "        \"sunrise\": 1660557089,\n",
      "        \"sunset\": 1660607172,\n",
      "        \"type\": 2\n",
      "    },\n",
      "    \"timezone\": -14400,\n",
      "    \"visibility\": 10000,\n",
      "    \"weather\": [\n",
      "        {\n",
      "            \"description\": \"broken clouds\",\n",
      "            \"icon\": \"04n\",\n",
      "            \"id\": 803,\n",
      "            \"main\": \"Clouds\"\n",
      "        }\n",
      "    ],\n",
      "    \"wind\": {\n",
      "        \"deg\": 70,\n",
      "        \"speed\": 4.61\n",
      "    }\n",
      "}\n"
     ]
    }
   ],
   "source": [
    "print(json.dumps(city_weather.json(), indent=4, sort_keys=True))"
   ]
  },
  {
   "cell_type": "code",
   "execution_count": 58,
   "id": "8c9d72be-d54d-4fe3-b14f-1487923c3cb2",
   "metadata": {},
   "outputs": [
    {
     "name": "stdout",
     "output_type": "stream",
     "text": [
      "City weather not found.\n"
     ]
    }
   ],
   "source": [
    "# Create an endpoint URL for a city.\n",
    "city_url = url + \"&q=\" + \"B0ston\"\n",
    "city_weather = requests.get(city_url)\n",
    "if city_weather.status_code == 200:\n",
    "    print(f\"City weather found.\")\n",
    "else:\n",
    "    print(f\"City weather not found.\")"
   ]
  },
  {
   "cell_type": "code",
   "execution_count": 59,
   "id": "0ba9c7fd-9a1d-4c2f-863e-662cb876ad3f",
   "metadata": {},
   "outputs": [
    {
     "data": {
      "text/plain": [
       "{'coord': {'lon': -71.0598, 'lat': 42.3584},\n",
       " 'weather': [{'id': 803,\n",
       "   'main': 'Clouds',\n",
       "   'description': 'broken clouds',\n",
       "   'icon': '04n'}],\n",
       " 'base': 'stations',\n",
       " 'main': {'temp': 71.33,\n",
       "  'feels_like': 71.02,\n",
       "  'temp_min': 67.95,\n",
       "  'temp_max': 73.85,\n",
       "  'pressure': 1017,\n",
       "  'humidity': 61},\n",
       " 'visibility': 10000,\n",
       " 'wind': {'speed': 15.99, 'deg': 300, 'gust': 0},\n",
       " 'clouds': {'all': 75},\n",
       " 'dt': 1660608211,\n",
       " 'sys': {'type': 2,\n",
       "  'id': 2013408,\n",
       "  'country': 'US',\n",
       "  'sunrise': 1660557089,\n",
       "  'sunset': 1660607172},\n",
       " 'timezone': -14400,\n",
       " 'id': 4930956,\n",
       " 'name': 'Boston',\n",
       " 'cod': 200}"
      ]
     },
     "execution_count": 59,
     "metadata": {},
     "output_type": "execute_result"
    }
   ],
   "source": [
    "# Create an endpoint URL for a city.\n",
    "city_url = url + \"&q=\" + \"Boston\"\n",
    "city_weather = requests.get(city_url)\n",
    "city_weather.json()"
   ]
  },
  {
   "cell_type": "code",
   "execution_count": 60,
   "id": "4f481149-923a-4612-a622-4181323752f6",
   "metadata": {},
   "outputs": [
    {
     "name": "stdout",
     "output_type": "stream",
     "text": [
      "42.3584 -71.0598 73.85 61 75 15.99\n"
     ]
    }
   ],
   "source": [
    "# Get the JSON data.\n",
    "boston_data = city_weather.json()\n",
    "lat = boston_data[\"coord\"][\"lat\"]\n",
    "lng = boston_data[\"coord\"][\"lon\"]\n",
    "max_temp = boston_data[\"main\"][\"temp_max\"]\n",
    "humidity = boston_data[\"main\"][\"humidity\"]\n",
    "clouds = boston_data[\"clouds\"][\"all\"]\n",
    "wind = boston_data[\"wind\"][\"speed\"]\n",
    "print(lat, lng, max_temp, humidity, clouds, wind)"
   ]
  },
  {
   "cell_type": "code",
   "execution_count": 63,
   "id": "08128d70-6b8e-4d08-8233-752e01e0c317",
   "metadata": {},
   "outputs": [
    {
     "data": {
      "text/plain": [
       "datetime.datetime(2022, 8, 16, 0, 3, 31)"
      ]
     },
     "execution_count": 63,
     "metadata": {},
     "output_type": "execute_result"
    }
   ],
   "source": [
    "# Get the date from the JSON file.\n",
    "date = boston_data[\"dt\"]\n",
    "# Convert the UTC date to a date format with year, month, day, hours, minutes, and seconds.\n",
    "datetime.utcfromtimestamp(date)"
   ]
  },
  {
   "cell_type": "code",
   "execution_count": 64,
   "id": "cf49bb5a-0faa-4616-ad2b-ac7e279bc921",
   "metadata": {},
   "outputs": [
    {
     "data": {
      "text/plain": [
       "625"
      ]
     },
     "execution_count": 64,
     "metadata": {},
     "output_type": "execute_result"
    }
   ],
   "source": [
    "# Create a list for holding the cities.\n",
    "cities = []\n",
    "# Identify the nearest city for each latitude and longitude combination.\n",
    "for coordinate in coordinates:\n",
    "    city = citipy.nearest_city(coordinate[0], coordinate[1]).city_name\n",
    "\n",
    "    # If the city is unique, then we will add it to the cities list.\n",
    "    if city not in cities:\n",
    "        cities.append(city)\n",
    "# Print the city count to confirm sufficient count.\n",
    "len(cities)"
   ]
  },
  {
   "cell_type": "code",
   "execution_count": 65,
   "id": "7220f985-57c6-47c6-927b-540167d8865d",
   "metadata": {},
   "outputs": [
    {
     "data": {
      "text/plain": [
       "{'type': 2,\n",
       " 'id': 2013408,\n",
       " 'country': 'US',\n",
       " 'sunrise': 1660557089,\n",
       " 'sunset': 1660607172}"
      ]
     },
     "execution_count": 65,
     "metadata": {},
     "output_type": "execute_result"
    }
   ],
   "source": [
    "boston_data[\"sys\"]"
   ]
  },
  {
   "cell_type": "code",
   "execution_count": 108,
   "id": "965afb64-b263-45bd-a817-c1c6a847349c",
   "metadata": {},
   "outputs": [],
   "source": [
    "# # Create an empty list to hold the weather data.\n",
    "# city_data = []\n",
    "# # Print the beginning of the logging.\n",
    "# print(\"Beginning Data Retrieval     \")\n",
    "# print(\"-----------------------------\")\n",
    "\n",
    "# # Create counters.\n",
    "# record_count = 1\n",
    "# set_count = 1\n",
    "\n",
    "# # Loop through all the cities in the list.\n",
    "# for i, city in enumerate(cities):\n",
    "\n",
    "#     # Group cities in sets of 50 for logging purposes.\n",
    "#     if (i % 50 == 0 and i >= 50):\n",
    "#         set_count += 1\n",
    "#         record_count = 1\n",
    "#         time.sleep(60)\n",
    "\n",
    "#     # Create endpoint URL with each city.\n",
    "#     city_url = url + \"&q=\" + city.replace(\" \",\"+\")\n",
    "\n",
    "#     # Log the URL, record, and set numbers and the city.\n",
    "#     print(f\"Processing Record {record_count} of Set {set_count} | {city}\")\n",
    "#     # Add 1 to the record count.\n",
    "#     record_count += 1\n",
    "# # Run an API request for each of the cities.\n",
    "#     try:\n",
    "#         # Parse the JSON and retrieve data.\n",
    "#         city_weather = requests.get(city_url).json()\n",
    "#         # Parse out the needed data.\n",
    "#         city_lat = city_weather[\"coord\"][\"lat\"]\n",
    "#         city_lng = city_weather[\"coord\"][\"lon\"]\n",
    "#         city_max_temp = city_weather[\"main\"][\"temp_max\"]\n",
    "#         city_humidity = city_weather[\"main\"][\"humidity\"]\n",
    "#         city_clouds = city_weather[\"clouds\"][\"all\"]\n",
    "#         city_wind = city_weather[\"wind\"][\"speed\"]\n",
    "#         city_country = city_weather[\"sys\"][\"country\"]\n",
    "#         # Convert the date to ISO standard.\n",
    "#         city_date = datetime.utcfromtimestamp(city_weather[\"dt\"]).strftime('%Y-%m-%d %H:%M:%S')\n",
    "#         # Append the city information into city_data list.\n",
    "#         city_data.append({\"City\": city.title(),\n",
    "#                           \"Lat\": city_lat,\n",
    "#                           \"Lng\": city_lng,\n",
    "#                           \"Max Temp\": city_max_temp,\n",
    "#                           \"Humidity\": city_humidity,\n",
    "#                           \"Cloudiness\": city_clouds,\n",
    "#                           \"Wind Speed\": city_wind,\n",
    "#                           \"Country\": city_country,\n",
    "#                           \"Date\": city_date})\n",
    "\n",
    "# # If an error is experienced, skip the city.\n",
    "#     except:\n",
    "#         print(\"City not found. Skipping...\")\n",
    "#         pass\n",
    "\n",
    "# # Indicate that Data Loading is complete.\n",
    "# print(\"-----------------------------\")\n",
    "# print(\"Data Retrieval Complete      \")\n",
    "# print(\"-----------------------------\")"
   ]
  },
  {
   "cell_type": "code",
   "execution_count": 109,
   "id": "1a34e655-e36b-49cb-879d-a76a1a669543",
   "metadata": {},
   "outputs": [
    {
     "data": {
      "text/html": [
       "<div>\n",
       "<style scoped>\n",
       "    .dataframe tbody tr th:only-of-type {\n",
       "        vertical-align: middle;\n",
       "    }\n",
       "\n",
       "    .dataframe tbody tr th {\n",
       "        vertical-align: top;\n",
       "    }\n",
       "\n",
       "    .dataframe thead th {\n",
       "        text-align: right;\n",
       "    }\n",
       "</style>\n",
       "<table border=\"1\" class=\"dataframe\">\n",
       "  <thead>\n",
       "    <tr style=\"text-align: right;\">\n",
       "      <th></th>\n",
       "      <th>City</th>\n",
       "      <th>Lat</th>\n",
       "      <th>Lng</th>\n",
       "      <th>Max Temp</th>\n",
       "      <th>Humidity</th>\n",
       "      <th>Cloudiness</th>\n",
       "      <th>Wind Speed</th>\n",
       "      <th>Country</th>\n",
       "      <th>Date</th>\n",
       "    </tr>\n",
       "  </thead>\n",
       "  <tbody>\n",
       "    <tr>\n",
       "      <th>0</th>\n",
       "      <td>Busselton</td>\n",
       "      <td>-33.6500</td>\n",
       "      <td>115.3333</td>\n",
       "      <td>58.21</td>\n",
       "      <td>79</td>\n",
       "      <td>100</td>\n",
       "      <td>19.08</td>\n",
       "      <td>AU</td>\n",
       "      <td>2022-08-16 00:06:40</td>\n",
       "    </tr>\n",
       "    <tr>\n",
       "      <th>1</th>\n",
       "      <td>Nelson Bay</td>\n",
       "      <td>-32.7167</td>\n",
       "      <td>152.1500</td>\n",
       "      <td>60.01</td>\n",
       "      <td>68</td>\n",
       "      <td>49</td>\n",
       "      <td>10.00</td>\n",
       "      <td>AU</td>\n",
       "      <td>2022-08-16 00:06:41</td>\n",
       "    </tr>\n",
       "    <tr>\n",
       "      <th>2</th>\n",
       "      <td>Cidreira</td>\n",
       "      <td>-30.1811</td>\n",
       "      <td>-50.2056</td>\n",
       "      <td>60.93</td>\n",
       "      <td>97</td>\n",
       "      <td>79</td>\n",
       "      <td>7.20</td>\n",
       "      <td>BR</td>\n",
       "      <td>2022-08-16 00:06:41</td>\n",
       "    </tr>\n",
       "    <tr>\n",
       "      <th>3</th>\n",
       "      <td>Camacha</td>\n",
       "      <td>33.0833</td>\n",
       "      <td>-16.3333</td>\n",
       "      <td>71.02</td>\n",
       "      <td>88</td>\n",
       "      <td>40</td>\n",
       "      <td>11.50</td>\n",
       "      <td>PT</td>\n",
       "      <td>2022-08-16 00:06:42</td>\n",
       "    </tr>\n",
       "    <tr>\n",
       "      <th>4</th>\n",
       "      <td>Victoria</td>\n",
       "      <td>22.2855</td>\n",
       "      <td>114.1577</td>\n",
       "      <td>86.38</td>\n",
       "      <td>86</td>\n",
       "      <td>44</td>\n",
       "      <td>5.01</td>\n",
       "      <td>HK</td>\n",
       "      <td>2022-08-16 00:04:55</td>\n",
       "    </tr>\n",
       "    <tr>\n",
       "      <th>5</th>\n",
       "      <td>Pisco</td>\n",
       "      <td>-13.7000</td>\n",
       "      <td>-76.2167</td>\n",
       "      <td>62.02</td>\n",
       "      <td>82</td>\n",
       "      <td>3</td>\n",
       "      <td>20.71</td>\n",
       "      <td>PE</td>\n",
       "      <td>2022-08-16 00:05:00</td>\n",
       "    </tr>\n",
       "    <tr>\n",
       "      <th>6</th>\n",
       "      <td>San Jose</td>\n",
       "      <td>37.3394</td>\n",
       "      <td>-121.8950</td>\n",
       "      <td>101.70</td>\n",
       "      <td>32</td>\n",
       "      <td>0</td>\n",
       "      <td>12.66</td>\n",
       "      <td>US</td>\n",
       "      <td>2022-08-16 00:06:43</td>\n",
       "    </tr>\n",
       "    <tr>\n",
       "      <th>7</th>\n",
       "      <td>Vostok</td>\n",
       "      <td>46.4856</td>\n",
       "      <td>135.8833</td>\n",
       "      <td>67.64</td>\n",
       "      <td>67</td>\n",
       "      <td>28</td>\n",
       "      <td>4.61</td>\n",
       "      <td>RU</td>\n",
       "      <td>2022-08-16 00:06:43</td>\n",
       "    </tr>\n",
       "    <tr>\n",
       "      <th>8</th>\n",
       "      <td>Guilin</td>\n",
       "      <td>25.2819</td>\n",
       "      <td>110.2864</td>\n",
       "      <td>80.67</td>\n",
       "      <td>86</td>\n",
       "      <td>92</td>\n",
       "      <td>2.06</td>\n",
       "      <td>CN</td>\n",
       "      <td>2022-08-16 00:06:43</td>\n",
       "    </tr>\n",
       "    <tr>\n",
       "      <th>9</th>\n",
       "      <td>Alice Springs</td>\n",
       "      <td>-23.7000</td>\n",
       "      <td>133.8833</td>\n",
       "      <td>56.75</td>\n",
       "      <td>41</td>\n",
       "      <td>12</td>\n",
       "      <td>8.05</td>\n",
       "      <td>AU</td>\n",
       "      <td>2022-08-16 00:06:44</td>\n",
       "    </tr>\n",
       "  </tbody>\n",
       "</table>\n",
       "</div>"
      ],
      "text/plain": [
       "            City      Lat       Lng  Max Temp  Humidity  Cloudiness  \\\n",
       "0      Busselton -33.6500  115.3333     58.21        79         100   \n",
       "1     Nelson Bay -32.7167  152.1500     60.01        68          49   \n",
       "2       Cidreira -30.1811  -50.2056     60.93        97          79   \n",
       "3        Camacha  33.0833  -16.3333     71.02        88          40   \n",
       "4       Victoria  22.2855  114.1577     86.38        86          44   \n",
       "5          Pisco -13.7000  -76.2167     62.02        82           3   \n",
       "6       San Jose  37.3394 -121.8950    101.70        32           0   \n",
       "7         Vostok  46.4856  135.8833     67.64        67          28   \n",
       "8         Guilin  25.2819  110.2864     80.67        86          92   \n",
       "9  Alice Springs -23.7000  133.8833     56.75        41          12   \n",
       "\n",
       "   Wind Speed Country                 Date  \n",
       "0       19.08      AU  2022-08-16 00:06:40  \n",
       "1       10.00      AU  2022-08-16 00:06:41  \n",
       "2        7.20      BR  2022-08-16 00:06:41  \n",
       "3       11.50      PT  2022-08-16 00:06:42  \n",
       "4        5.01      HK  2022-08-16 00:04:55  \n",
       "5       20.71      PE  2022-08-16 00:05:00  \n",
       "6       12.66      US  2022-08-16 00:06:43  \n",
       "7        4.61      RU  2022-08-16 00:06:43  \n",
       "8        2.06      CN  2022-08-16 00:06:43  \n",
       "9        8.05      AU  2022-08-16 00:06:44  "
      ]
     },
     "execution_count": 109,
     "metadata": {},
     "output_type": "execute_result"
    }
   ],
   "source": [
    "# Convert the array of dictionaries to a Pandas DataFrame.\n",
    "city_data_df = pd.DataFrame(city_data)\n",
    "city_data_df.head(10)"
   ]
  },
  {
   "cell_type": "code",
   "execution_count": 110,
   "id": "a5e49d56-13c3-49d4-8707-62727e80fa06",
   "metadata": {},
   "outputs": [],
   "source": [
    "# Create the output file (CSV).\n",
    "output_data_file = \"weather_data/cities.csv\"\n",
    "# Export the City_Data into a CSV.\n",
    "city_data_df.to_csv(output_data_file, index_label=\"City_ID\")"
   ]
  },
  {
   "cell_type": "code",
   "execution_count": 111,
   "id": "1d948c45-f1b6-4c83-842c-bbd0a90a12d5",
   "metadata": {},
   "outputs": [],
   "source": [
    "# Extract relevant fields from the DataFrame for plotting.\n",
    "lats = city_data_df[\"Lat\"]\n",
    "max_temps = city_data_df[\"Max Temp\"]\n",
    "humidity = city_data_df[\"Humidity\"]\n",
    "cloudiness = city_data_df[\"Cloudiness\"]\n",
    "wind_speed = city_data_df[\"Wind Speed\"]"
   ]
  },
  {
   "cell_type": "code",
   "execution_count": 114,
   "id": "a27e9716-d478-4cfa-81e4-e1ad598397cb",
   "metadata": {},
   "outputs": [
    {
     "data": {
      "text/plain": [
       "1660617525.6399088"
      ]
     },
     "execution_count": 114,
     "metadata": {},
     "output_type": "execute_result"
    }
   ],
   "source": [
    "# Get today's date in seconds.\n",
    "today = time.time()\n",
    "today"
   ]
  },
  {
   "cell_type": "code",
   "execution_count": 115,
   "id": "41de58c9-a7a3-4e1f-b29b-e5fdcc993557",
   "metadata": {},
   "outputs": [
    {
     "data": {
      "image/png": "[encoded data removed]",
      "text/plain": [
       "<Figure size 432x288 with 1 Axes>"
      ]
     },
     "metadata": {
      "needs_background": "light"
     },
     "output_type": "display_data"
    }
   ],
   "source": [
    "# Build the scatter plot for latitude vs. max temperature.\n",
    "plt.scatter(lats,\n",
    "            max_temps,\n",
    "            edgecolor=\"black\", linewidths=1, marker=\"o\",\n",
    "            alpha=0.8, label=\"Cities\")\n",
    "\n",
    "# Incorporate the other graph properties.\n",
    "plt.title(f\"City Latitude vs. Max Temperature \"+ time.strftime(\"%x\"))\n",
    "plt.ylabel(\"Max Temperature (F)\")\n",
    "plt.xlabel(\"Latitude\")\n",
    "plt.grid(True)\n",
    "\n",
    "# Save the figure.\n",
    "plt.savefig(\"weather_data/Fig1.png\")\n",
    "\n",
    "# Show plot.\n",
    "plt.show()"
   ]
  },
  {
   "cell_type": "code",
   "execution_count": null,
   "id": "dc772f11-4350-463b-b1e0-8fdab0be83a6",
   "metadata": {},
   "outputs": [],
   "source": []
  }
 ],
 "metadata": {
  "kernelspec": {
   "display_name": "Python 3 (ipykernel)",
   "language": "python",
   "name": "python3"
  },
  "language_info": {
   "codemirror_mode": {
    "name": "ipython",
    "version": 3
   },
   "file_extension": ".py",
   "mimetype": "text/x-python",
   "name": "python",
   "nbconvert_exporter": "python",
   "pygments_lexer": "ipython3",
   "version": "3.8.3"
  }
 },
 "nbformat": 4,
 "nbformat_minor": 5
}
